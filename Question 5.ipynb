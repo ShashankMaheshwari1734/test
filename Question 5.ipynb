{
 "cells": [
  {
   "cell_type": "code",
   "execution_count": 1,
   "metadata": {},
   "outputs": [],
   "source": [
    "import pandas as pd\n",
    "import numpy as np\n",
    "import matplotlib.pyplot as plt"
   ]
  },
  {
   "cell_type": "code",
   "execution_count": 4,
   "metadata": {},
   "outputs": [],
   "source": [
    "train=pd.read_csv('train.csv')\n",
    "validation=pd.read_csv('validation.csv')"
   ]
  },
  {
   "cell_type": "code",
   "execution_count": 5,
   "metadata": {},
   "outputs": [
    {
     "data": {
      "text/html": [
       "<div>\n",
       "<style scoped>\n",
       "    .dataframe tbody tr th:only-of-type {\n",
       "        vertical-align: middle;\n",
       "    }\n",
       "\n",
       "    .dataframe tbody tr th {\n",
       "        vertical-align: top;\n",
       "    }\n",
       "\n",
       "    .dataframe thead th {\n",
       "        text-align: right;\n",
       "    }\n",
       "</style>\n",
       "<table border=\"1\" class=\"dataframe\">\n",
       "  <thead>\n",
       "    <tr style=\"text-align: right;\">\n",
       "      <th></th>\n",
       "      <th>dbfs</th>\n",
       "      <th>rms</th>\n",
       "      <th>avg</th>\n",
       "      <th>mode</th>\n",
       "      <th>std</th>\n",
       "      <th>dcoffset</th>\n",
       "      <th>filename</th>\n",
       "      <th>target</th>\n",
       "    </tr>\n",
       "  </thead>\n",
       "  <tbody>\n",
       "    <tr>\n",
       "      <th>0</th>\n",
       "      <td>-23.342901</td>\n",
       "      <td>0.068081</td>\n",
       "      <td>9.726773e-06</td>\n",
       "      <td>0.000000</td>\n",
       "      <td>0.068081</td>\n",
       "      <td>0.000000</td>\n",
       "      <td>BPCRGRYCXPI</td>\n",
       "      <td>silent</td>\n",
       "    </tr>\n",
       "    <tr>\n",
       "      <th>1</th>\n",
       "      <td>-32.613091</td>\n",
       "      <td>0.023555</td>\n",
       "      <td>-1.376716e-05</td>\n",
       "      <td>-0.033556</td>\n",
       "      <td>0.023555</td>\n",
       "      <td>-0.000061</td>\n",
       "      <td>UE4OHIQ6JJO</td>\n",
       "      <td>noise</td>\n",
       "    </tr>\n",
       "    <tr>\n",
       "      <th>2</th>\n",
       "      <td>-33.918120</td>\n",
       "      <td>0.020217</td>\n",
       "      <td>-2.388173e-05</td>\n",
       "      <td>-0.020961</td>\n",
       "      <td>0.020217</td>\n",
       "      <td>-0.000061</td>\n",
       "      <td>N0B0Z81N2KQ</td>\n",
       "      <td>noise</td>\n",
       "    </tr>\n",
       "    <tr>\n",
       "      <th>3</th>\n",
       "      <td>-28.287812</td>\n",
       "      <td>0.038521</td>\n",
       "      <td>-2.014348e-06</td>\n",
       "      <td>0.000122</td>\n",
       "      <td>0.038521</td>\n",
       "      <td>-0.000031</td>\n",
       "      <td>IL6D7IEAKXH</td>\n",
       "      <td>silent</td>\n",
       "    </tr>\n",
       "    <tr>\n",
       "      <th>4</th>\n",
       "      <td>-24.189081</td>\n",
       "      <td>0.061746</td>\n",
       "      <td>-6.716756e-07</td>\n",
       "      <td>-0.000122</td>\n",
       "      <td>0.061746</td>\n",
       "      <td>-0.000031</td>\n",
       "      <td>6VKOI64H5QS</td>\n",
       "      <td>silent</td>\n",
       "    </tr>\n",
       "  </tbody>\n",
       "</table>\n",
       "</div>"
      ],
      "text/plain": [
       "        dbfs       rms           avg      mode       std  dcoffset  \\\n",
       "0 -23.342901  0.068081  9.726773e-06  0.000000  0.068081  0.000000   \n",
       "1 -32.613091  0.023555 -1.376716e-05 -0.033556  0.023555 -0.000061   \n",
       "2 -33.918120  0.020217 -2.388173e-05 -0.020961  0.020217 -0.000061   \n",
       "3 -28.287812  0.038521 -2.014348e-06  0.000122  0.038521 -0.000031   \n",
       "4 -24.189081  0.061746 -6.716756e-07 -0.000122  0.061746 -0.000031   \n",
       "\n",
       "      filename  target  \n",
       "0  BPCRGRYCXPI  silent  \n",
       "1  UE4OHIQ6JJO   noise  \n",
       "2  N0B0Z81N2KQ   noise  \n",
       "3  IL6D7IEAKXH  silent  \n",
       "4  6VKOI64H5QS  silent  "
      ]
     },
     "execution_count": 5,
     "metadata": {},
     "output_type": "execute_result"
    }
   ],
   "source": [
    "train.head()"
   ]
  },
  {
   "cell_type": "code",
   "execution_count": 6,
   "metadata": {},
   "outputs": [
    {
     "data": {
      "text/html": [
       "<div>\n",
       "<style scoped>\n",
       "    .dataframe tbody tr th:only-of-type {\n",
       "        vertical-align: middle;\n",
       "    }\n",
       "\n",
       "    .dataframe tbody tr th {\n",
       "        vertical-align: top;\n",
       "    }\n",
       "\n",
       "    .dataframe thead th {\n",
       "        text-align: right;\n",
       "    }\n",
       "</style>\n",
       "<table border=\"1\" class=\"dataframe\">\n",
       "  <thead>\n",
       "    <tr style=\"text-align: right;\">\n",
       "      <th></th>\n",
       "      <th>dbfs</th>\n",
       "      <th>rms</th>\n",
       "      <th>avg</th>\n",
       "      <th>mode</th>\n",
       "      <th>std</th>\n",
       "      <th>dcoffset</th>\n",
       "      <th>filename</th>\n",
       "      <th>target</th>\n",
       "    </tr>\n",
       "  </thead>\n",
       "  <tbody>\n",
       "    <tr>\n",
       "      <th>0</th>\n",
       "      <td>-28.718139</td>\n",
       "      <td>0.036679</td>\n",
       "      <td>-5.857863e-08</td>\n",
       "      <td>0.000275</td>\n",
       "      <td>0.036679</td>\n",
       "      <td>-0.000031</td>\n",
       "      <td>LBJG6IRRNJT</td>\n",
       "      <td>silent</td>\n",
       "    </tr>\n",
       "    <tr>\n",
       "      <th>1</th>\n",
       "      <td>-21.730113</td>\n",
       "      <td>0.081726</td>\n",
       "      <td>-5.130002e-06</td>\n",
       "      <td>-0.103353</td>\n",
       "      <td>0.081726</td>\n",
       "      <td>-0.000031</td>\n",
       "      <td>K0N0FWSJH6Q</td>\n",
       "      <td>noise</td>\n",
       "    </tr>\n",
       "    <tr>\n",
       "      <th>2</th>\n",
       "      <td>-23.006730</td>\n",
       "      <td>0.070743</td>\n",
       "      <td>-9.530798e-04</td>\n",
       "      <td>0.001740</td>\n",
       "      <td>0.070736</td>\n",
       "      <td>-0.000977</td>\n",
       "      <td>CI3K3E36QFM</td>\n",
       "      <td>silent</td>\n",
       "    </tr>\n",
       "    <tr>\n",
       "      <th>3</th>\n",
       "      <td>-40.824673</td>\n",
       "      <td>0.009223</td>\n",
       "      <td>-2.243036e-05</td>\n",
       "      <td>-0.011938</td>\n",
       "      <td>0.009223</td>\n",
       "      <td>-0.000061</td>\n",
       "      <td>908RKO7BJWD</td>\n",
       "      <td>noise</td>\n",
       "    </tr>\n",
       "    <tr>\n",
       "      <th>4</th>\n",
       "      <td>-25.069475</td>\n",
       "      <td>0.052199</td>\n",
       "      <td>-2.454277e-04</td>\n",
       "      <td>0.000000</td>\n",
       "      <td>0.052199</td>\n",
       "      <td>-0.000244</td>\n",
       "      <td>OQU84RQS7AV</td>\n",
       "      <td>noise</td>\n",
       "    </tr>\n",
       "  </tbody>\n",
       "</table>\n",
       "</div>"
      ],
      "text/plain": [
       "        dbfs       rms           avg      mode       std  dcoffset  \\\n",
       "0 -28.718139  0.036679 -5.857863e-08  0.000275  0.036679 -0.000031   \n",
       "1 -21.730113  0.081726 -5.130002e-06 -0.103353  0.081726 -0.000031   \n",
       "2 -23.006730  0.070743 -9.530798e-04  0.001740  0.070736 -0.000977   \n",
       "3 -40.824673  0.009223 -2.243036e-05 -0.011938  0.009223 -0.000061   \n",
       "4 -25.069475  0.052199 -2.454277e-04  0.000000  0.052199 -0.000244   \n",
       "\n",
       "      filename  target  \n",
       "0  LBJG6IRRNJT  silent  \n",
       "1  K0N0FWSJH6Q   noise  \n",
       "2  CI3K3E36QFM  silent  \n",
       "3  908RKO7BJWD   noise  \n",
       "4  OQU84RQS7AV   noise  "
      ]
     },
     "execution_count": 6,
     "metadata": {},
     "output_type": "execute_result"
    }
   ],
   "source": [
    "validation.head()"
   ]
  },
  {
   "cell_type": "code",
   "execution_count": 8,
   "metadata": {},
   "outputs": [
    {
     "data": {
      "text/html": [
       "<div>\n",
       "<style scoped>\n",
       "    .dataframe tbody tr th:only-of-type {\n",
       "        vertical-align: middle;\n",
       "    }\n",
       "\n",
       "    .dataframe tbody tr th {\n",
       "        vertical-align: top;\n",
       "    }\n",
       "\n",
       "    .dataframe thead th {\n",
       "        text-align: right;\n",
       "    }\n",
       "</style>\n",
       "<table border=\"1\" class=\"dataframe\">\n",
       "  <thead>\n",
       "    <tr style=\"text-align: right;\">\n",
       "      <th></th>\n",
       "      <th>dbfs</th>\n",
       "      <th>rms</th>\n",
       "      <th>avg</th>\n",
       "      <th>mode</th>\n",
       "      <th>std</th>\n",
       "      <th>dcoffset</th>\n",
       "      <th>filename</th>\n",
       "      <th>target</th>\n",
       "    </tr>\n",
       "  </thead>\n",
       "  <tbody>\n",
       "    <tr>\n",
       "      <th>0</th>\n",
       "      <td>-23.342901</td>\n",
       "      <td>0.068081</td>\n",
       "      <td>9.726773e-06</td>\n",
       "      <td>0.000000</td>\n",
       "      <td>0.068081</td>\n",
       "      <td>0.000000</td>\n",
       "      <td>BPCRGRYCXPI</td>\n",
       "      <td>silent</td>\n",
       "    </tr>\n",
       "    <tr>\n",
       "      <th>1</th>\n",
       "      <td>-32.613091</td>\n",
       "      <td>0.023555</td>\n",
       "      <td>-1.376716e-05</td>\n",
       "      <td>-0.033556</td>\n",
       "      <td>0.023555</td>\n",
       "      <td>-0.000061</td>\n",
       "      <td>UE4OHIQ6JJO</td>\n",
       "      <td>noise</td>\n",
       "    </tr>\n",
       "    <tr>\n",
       "      <th>2</th>\n",
       "      <td>-33.918120</td>\n",
       "      <td>0.020217</td>\n",
       "      <td>-2.388173e-05</td>\n",
       "      <td>-0.020961</td>\n",
       "      <td>0.020217</td>\n",
       "      <td>-0.000061</td>\n",
       "      <td>N0B0Z81N2KQ</td>\n",
       "      <td>noise</td>\n",
       "    </tr>\n",
       "    <tr>\n",
       "      <th>3</th>\n",
       "      <td>-28.287812</td>\n",
       "      <td>0.038521</td>\n",
       "      <td>-2.014348e-06</td>\n",
       "      <td>0.000122</td>\n",
       "      <td>0.038521</td>\n",
       "      <td>-0.000031</td>\n",
       "      <td>IL6D7IEAKXH</td>\n",
       "      <td>silent</td>\n",
       "    </tr>\n",
       "    <tr>\n",
       "      <th>4</th>\n",
       "      <td>-24.189081</td>\n",
       "      <td>0.061746</td>\n",
       "      <td>-6.716756e-07</td>\n",
       "      <td>-0.000122</td>\n",
       "      <td>0.061746</td>\n",
       "      <td>-0.000031</td>\n",
       "      <td>6VKOI64H5QS</td>\n",
       "      <td>silent</td>\n",
       "    </tr>\n",
       "    <tr>\n",
       "      <th>...</th>\n",
       "      <td>...</td>\n",
       "      <td>...</td>\n",
       "      <td>...</td>\n",
       "      <td>...</td>\n",
       "      <td>...</td>\n",
       "      <td>...</td>\n",
       "      <td>...</td>\n",
       "      <td>...</td>\n",
       "    </tr>\n",
       "    <tr>\n",
       "      <th>1995</th>\n",
       "      <td>-30.466769</td>\n",
       "      <td>0.029989</td>\n",
       "      <td>-1.134274e-05</td>\n",
       "      <td>0.000305</td>\n",
       "      <td>0.029989</td>\n",
       "      <td>-0.000031</td>\n",
       "      <td>9FNSYNKBSZV</td>\n",
       "      <td>silent</td>\n",
       "    </tr>\n",
       "    <tr>\n",
       "      <th>1996</th>\n",
       "      <td>-33.258062</td>\n",
       "      <td>0.021791</td>\n",
       "      <td>-2.203779e-05</td>\n",
       "      <td>-0.062787</td>\n",
       "      <td>0.021791</td>\n",
       "      <td>-0.000022</td>\n",
       "      <td>H1G0X0CBUJ9</td>\n",
       "      <td>noise</td>\n",
       "    </tr>\n",
       "    <tr>\n",
       "      <th>1997</th>\n",
       "      <td>-25.300599</td>\n",
       "      <td>0.054325</td>\n",
       "      <td>-3.338114e-03</td>\n",
       "      <td>-0.003296</td>\n",
       "      <td>0.054223</td>\n",
       "      <td>-0.003357</td>\n",
       "      <td>UUJDVM3814Z</td>\n",
       "      <td>silent</td>\n",
       "    </tr>\n",
       "    <tr>\n",
       "      <th>1998</th>\n",
       "      <td>-14.004087</td>\n",
       "      <td>0.200655</td>\n",
       "      <td>-6.724937e-06</td>\n",
       "      <td>-0.427449</td>\n",
       "      <td>0.200655</td>\n",
       "      <td>-0.000031</td>\n",
       "      <td>22SVX2DM54G</td>\n",
       "      <td>noise</td>\n",
       "    </tr>\n",
       "    <tr>\n",
       "      <th>1999</th>\n",
       "      <td>-28.718139</td>\n",
       "      <td>0.036654</td>\n",
       "      <td>-2.577067e-06</td>\n",
       "      <td>-0.000031</td>\n",
       "      <td>0.036654</td>\n",
       "      <td>-0.000031</td>\n",
       "      <td>CDM4K8R049Q</td>\n",
       "      <td>silent</td>\n",
       "    </tr>\n",
       "  </tbody>\n",
       "</table>\n",
       "<p>2000 rows × 8 columns</p>\n",
       "</div>"
      ],
      "text/plain": [
       "           dbfs       rms           avg      mode       std  dcoffset  \\\n",
       "0    -23.342901  0.068081  9.726773e-06  0.000000  0.068081  0.000000   \n",
       "1    -32.613091  0.023555 -1.376716e-05 -0.033556  0.023555 -0.000061   \n",
       "2    -33.918120  0.020217 -2.388173e-05 -0.020961  0.020217 -0.000061   \n",
       "3    -28.287812  0.038521 -2.014348e-06  0.000122  0.038521 -0.000031   \n",
       "4    -24.189081  0.061746 -6.716756e-07 -0.000122  0.061746 -0.000031   \n",
       "...         ...       ...           ...       ...       ...       ...   \n",
       "1995 -30.466769  0.029989 -1.134274e-05  0.000305  0.029989 -0.000031   \n",
       "1996 -33.258062  0.021791 -2.203779e-05 -0.062787  0.021791 -0.000022   \n",
       "1997 -25.300599  0.054325 -3.338114e-03 -0.003296  0.054223 -0.003357   \n",
       "1998 -14.004087  0.200655 -6.724937e-06 -0.427449  0.200655 -0.000031   \n",
       "1999 -28.718139  0.036654 -2.577067e-06 -0.000031  0.036654 -0.000031   \n",
       "\n",
       "         filename  target  \n",
       "0     BPCRGRYCXPI  silent  \n",
       "1     UE4OHIQ6JJO   noise  \n",
       "2     N0B0Z81N2KQ   noise  \n",
       "3     IL6D7IEAKXH  silent  \n",
       "4     6VKOI64H5QS  silent  \n",
       "...           ...     ...  \n",
       "1995  9FNSYNKBSZV  silent  \n",
       "1996  H1G0X0CBUJ9   noise  \n",
       "1997  UUJDVM3814Z  silent  \n",
       "1998  22SVX2DM54G   noise  \n",
       "1999  CDM4K8R049Q  silent  \n",
       "\n",
       "[2000 rows x 8 columns]"
      ]
     },
     "execution_count": 8,
     "metadata": {},
     "output_type": "execute_result"
    }
   ],
   "source": [
    "# first change the train dataset\n",
    "train"
   ]
  },
  {
   "cell_type": "code",
   "execution_count": 9,
   "metadata": {},
   "outputs": [
    {
     "data": {
      "text/plain": [
       "(2000, 8)"
      ]
     },
     "execution_count": 9,
     "metadata": {},
     "output_type": "execute_result"
    }
   ],
   "source": [
    "train.shape"
   ]
  },
  {
   "cell_type": "code",
   "execution_count": 10,
   "metadata": {},
   "outputs": [
    {
     "data": {
      "text/plain": [
       "dbfs        0\n",
       "rms         0\n",
       "avg         0\n",
       "mode        0\n",
       "std         0\n",
       "dcoffset    0\n",
       "filename    0\n",
       "target      0\n",
       "dtype: int64"
      ]
     },
     "execution_count": 10,
     "metadata": {},
     "output_type": "execute_result"
    }
   ],
   "source": [
    "train.isnull().sum()"
   ]
  },
  {
   "cell_type": "code",
   "execution_count": 13,
   "metadata": {},
   "outputs": [
    {
     "data": {
      "text/plain": [
       "array(['silent', 'noise'], dtype=object)"
      ]
     },
     "execution_count": 13,
     "metadata": {},
     "output_type": "execute_result"
    }
   ],
   "source": [
    "train['target'].unique()"
   ]
  },
  {
   "cell_type": "code",
   "execution_count": 14,
   "metadata": {},
   "outputs": [],
   "source": [
    "# change the target value to numerical form\n",
    "from sklearn.preprocessing import LabelEncoder\n",
    "encoder=LabelEncoder()\n",
    "train['target']=encoder.fit_transform(train['target'])"
   ]
  },
  {
   "cell_type": "code",
   "execution_count": 15,
   "metadata": {},
   "outputs": [
    {
     "data": {
      "text/html": [
       "<div>\n",
       "<style scoped>\n",
       "    .dataframe tbody tr th:only-of-type {\n",
       "        vertical-align: middle;\n",
       "    }\n",
       "\n",
       "    .dataframe tbody tr th {\n",
       "        vertical-align: top;\n",
       "    }\n",
       "\n",
       "    .dataframe thead th {\n",
       "        text-align: right;\n",
       "    }\n",
       "</style>\n",
       "<table border=\"1\" class=\"dataframe\">\n",
       "  <thead>\n",
       "    <tr style=\"text-align: right;\">\n",
       "      <th></th>\n",
       "      <th>dbfs</th>\n",
       "      <th>rms</th>\n",
       "      <th>avg</th>\n",
       "      <th>mode</th>\n",
       "      <th>std</th>\n",
       "      <th>dcoffset</th>\n",
       "      <th>filename</th>\n",
       "      <th>target</th>\n",
       "    </tr>\n",
       "  </thead>\n",
       "  <tbody>\n",
       "    <tr>\n",
       "      <th>0</th>\n",
       "      <td>-23.342901</td>\n",
       "      <td>0.068081</td>\n",
       "      <td>9.726773e-06</td>\n",
       "      <td>0.000000</td>\n",
       "      <td>0.068081</td>\n",
       "      <td>0.000000</td>\n",
       "      <td>BPCRGRYCXPI</td>\n",
       "      <td>1</td>\n",
       "    </tr>\n",
       "    <tr>\n",
       "      <th>1</th>\n",
       "      <td>-32.613091</td>\n",
       "      <td>0.023555</td>\n",
       "      <td>-1.376716e-05</td>\n",
       "      <td>-0.033556</td>\n",
       "      <td>0.023555</td>\n",
       "      <td>-0.000061</td>\n",
       "      <td>UE4OHIQ6JJO</td>\n",
       "      <td>0</td>\n",
       "    </tr>\n",
       "    <tr>\n",
       "      <th>2</th>\n",
       "      <td>-33.918120</td>\n",
       "      <td>0.020217</td>\n",
       "      <td>-2.388173e-05</td>\n",
       "      <td>-0.020961</td>\n",
       "      <td>0.020217</td>\n",
       "      <td>-0.000061</td>\n",
       "      <td>N0B0Z81N2KQ</td>\n",
       "      <td>0</td>\n",
       "    </tr>\n",
       "    <tr>\n",
       "      <th>3</th>\n",
       "      <td>-28.287812</td>\n",
       "      <td>0.038521</td>\n",
       "      <td>-2.014348e-06</td>\n",
       "      <td>0.000122</td>\n",
       "      <td>0.038521</td>\n",
       "      <td>-0.000031</td>\n",
       "      <td>IL6D7IEAKXH</td>\n",
       "      <td>1</td>\n",
       "    </tr>\n",
       "    <tr>\n",
       "      <th>4</th>\n",
       "      <td>-24.189081</td>\n",
       "      <td>0.061746</td>\n",
       "      <td>-6.716756e-07</td>\n",
       "      <td>-0.000122</td>\n",
       "      <td>0.061746</td>\n",
       "      <td>-0.000031</td>\n",
       "      <td>6VKOI64H5QS</td>\n",
       "      <td>1</td>\n",
       "    </tr>\n",
       "  </tbody>\n",
       "</table>\n",
       "</div>"
      ],
      "text/plain": [
       "        dbfs       rms           avg      mode       std  dcoffset  \\\n",
       "0 -23.342901  0.068081  9.726773e-06  0.000000  0.068081  0.000000   \n",
       "1 -32.613091  0.023555 -1.376716e-05 -0.033556  0.023555 -0.000061   \n",
       "2 -33.918120  0.020217 -2.388173e-05 -0.020961  0.020217 -0.000061   \n",
       "3 -28.287812  0.038521 -2.014348e-06  0.000122  0.038521 -0.000031   \n",
       "4 -24.189081  0.061746 -6.716756e-07 -0.000122  0.061746 -0.000031   \n",
       "\n",
       "      filename  target  \n",
       "0  BPCRGRYCXPI       1  \n",
       "1  UE4OHIQ6JJO       0  \n",
       "2  N0B0Z81N2KQ       0  \n",
       "3  IL6D7IEAKXH       1  \n",
       "4  6VKOI64H5QS       1  "
      ]
     },
     "execution_count": 15,
     "metadata": {},
     "output_type": "execute_result"
    }
   ],
   "source": [
    "train.head()"
   ]
  },
  {
   "cell_type": "markdown",
   "metadata": {},
   "source": [
    "Ok so here 1 ---> silent\n",
    "        "
   ]
  },
  {
   "cell_type": "markdown",
   "metadata": {},
   "source": [
    "0 ----> Noise"
   ]
  },
  {
   "cell_type": "code",
   "execution_count": 19,
   "metadata": {},
   "outputs": [],
   "source": [
    "# Lets drop the filename as here it doesnot have any meaning to keep the file during training"
   ]
  },
  {
   "cell_type": "code",
   "execution_count": 20,
   "metadata": {},
   "outputs": [],
   "source": [
    "train=train.drop(columns=['filename'])"
   ]
  },
  {
   "cell_type": "code",
   "execution_count": 21,
   "metadata": {},
   "outputs": [
    {
     "data": {
      "text/html": [
       "<div>\n",
       "<style scoped>\n",
       "    .dataframe tbody tr th:only-of-type {\n",
       "        vertical-align: middle;\n",
       "    }\n",
       "\n",
       "    .dataframe tbody tr th {\n",
       "        vertical-align: top;\n",
       "    }\n",
       "\n",
       "    .dataframe thead th {\n",
       "        text-align: right;\n",
       "    }\n",
       "</style>\n",
       "<table border=\"1\" class=\"dataframe\">\n",
       "  <thead>\n",
       "    <tr style=\"text-align: right;\">\n",
       "      <th></th>\n",
       "      <th>dbfs</th>\n",
       "      <th>rms</th>\n",
       "      <th>avg</th>\n",
       "      <th>mode</th>\n",
       "      <th>std</th>\n",
       "      <th>dcoffset</th>\n",
       "      <th>target</th>\n",
       "    </tr>\n",
       "  </thead>\n",
       "  <tbody>\n",
       "    <tr>\n",
       "      <th>0</th>\n",
       "      <td>-23.342901</td>\n",
       "      <td>0.068081</td>\n",
       "      <td>9.726773e-06</td>\n",
       "      <td>0.000000</td>\n",
       "      <td>0.068081</td>\n",
       "      <td>0.000000</td>\n",
       "      <td>1</td>\n",
       "    </tr>\n",
       "    <tr>\n",
       "      <th>1</th>\n",
       "      <td>-32.613091</td>\n",
       "      <td>0.023555</td>\n",
       "      <td>-1.376716e-05</td>\n",
       "      <td>-0.033556</td>\n",
       "      <td>0.023555</td>\n",
       "      <td>-0.000061</td>\n",
       "      <td>0</td>\n",
       "    </tr>\n",
       "    <tr>\n",
       "      <th>2</th>\n",
       "      <td>-33.918120</td>\n",
       "      <td>0.020217</td>\n",
       "      <td>-2.388173e-05</td>\n",
       "      <td>-0.020961</td>\n",
       "      <td>0.020217</td>\n",
       "      <td>-0.000061</td>\n",
       "      <td>0</td>\n",
       "    </tr>\n",
       "    <tr>\n",
       "      <th>3</th>\n",
       "      <td>-28.287812</td>\n",
       "      <td>0.038521</td>\n",
       "      <td>-2.014348e-06</td>\n",
       "      <td>0.000122</td>\n",
       "      <td>0.038521</td>\n",
       "      <td>-0.000031</td>\n",
       "      <td>1</td>\n",
       "    </tr>\n",
       "    <tr>\n",
       "      <th>4</th>\n",
       "      <td>-24.189081</td>\n",
       "      <td>0.061746</td>\n",
       "      <td>-6.716756e-07</td>\n",
       "      <td>-0.000122</td>\n",
       "      <td>0.061746</td>\n",
       "      <td>-0.000031</td>\n",
       "      <td>1</td>\n",
       "    </tr>\n",
       "    <tr>\n",
       "      <th>...</th>\n",
       "      <td>...</td>\n",
       "      <td>...</td>\n",
       "      <td>...</td>\n",
       "      <td>...</td>\n",
       "      <td>...</td>\n",
       "      <td>...</td>\n",
       "      <td>...</td>\n",
       "    </tr>\n",
       "    <tr>\n",
       "      <th>1995</th>\n",
       "      <td>-30.466769</td>\n",
       "      <td>0.029989</td>\n",
       "      <td>-1.134274e-05</td>\n",
       "      <td>0.000305</td>\n",
       "      <td>0.029989</td>\n",
       "      <td>-0.000031</td>\n",
       "      <td>1</td>\n",
       "    </tr>\n",
       "    <tr>\n",
       "      <th>1996</th>\n",
       "      <td>-33.258062</td>\n",
       "      <td>0.021791</td>\n",
       "      <td>-2.203779e-05</td>\n",
       "      <td>-0.062787</td>\n",
       "      <td>0.021791</td>\n",
       "      <td>-0.000022</td>\n",
       "      <td>0</td>\n",
       "    </tr>\n",
       "    <tr>\n",
       "      <th>1997</th>\n",
       "      <td>-25.300599</td>\n",
       "      <td>0.054325</td>\n",
       "      <td>-3.338114e-03</td>\n",
       "      <td>-0.003296</td>\n",
       "      <td>0.054223</td>\n",
       "      <td>-0.003357</td>\n",
       "      <td>1</td>\n",
       "    </tr>\n",
       "    <tr>\n",
       "      <th>1998</th>\n",
       "      <td>-14.004087</td>\n",
       "      <td>0.200655</td>\n",
       "      <td>-6.724937e-06</td>\n",
       "      <td>-0.427449</td>\n",
       "      <td>0.200655</td>\n",
       "      <td>-0.000031</td>\n",
       "      <td>0</td>\n",
       "    </tr>\n",
       "    <tr>\n",
       "      <th>1999</th>\n",
       "      <td>-28.718139</td>\n",
       "      <td>0.036654</td>\n",
       "      <td>-2.577067e-06</td>\n",
       "      <td>-0.000031</td>\n",
       "      <td>0.036654</td>\n",
       "      <td>-0.000031</td>\n",
       "      <td>1</td>\n",
       "    </tr>\n",
       "  </tbody>\n",
       "</table>\n",
       "<p>2000 rows × 7 columns</p>\n",
       "</div>"
      ],
      "text/plain": [
       "           dbfs       rms           avg      mode       std  dcoffset  target\n",
       "0    -23.342901  0.068081  9.726773e-06  0.000000  0.068081  0.000000       1\n",
       "1    -32.613091  0.023555 -1.376716e-05 -0.033556  0.023555 -0.000061       0\n",
       "2    -33.918120  0.020217 -2.388173e-05 -0.020961  0.020217 -0.000061       0\n",
       "3    -28.287812  0.038521 -2.014348e-06  0.000122  0.038521 -0.000031       1\n",
       "4    -24.189081  0.061746 -6.716756e-07 -0.000122  0.061746 -0.000031       1\n",
       "...         ...       ...           ...       ...       ...       ...     ...\n",
       "1995 -30.466769  0.029989 -1.134274e-05  0.000305  0.029989 -0.000031       1\n",
       "1996 -33.258062  0.021791 -2.203779e-05 -0.062787  0.021791 -0.000022       0\n",
       "1997 -25.300599  0.054325 -3.338114e-03 -0.003296  0.054223 -0.003357       1\n",
       "1998 -14.004087  0.200655 -6.724937e-06 -0.427449  0.200655 -0.000031       0\n",
       "1999 -28.718139  0.036654 -2.577067e-06 -0.000031  0.036654 -0.000031       1\n",
       "\n",
       "[2000 rows x 7 columns]"
      ]
     },
     "execution_count": 21,
     "metadata": {},
     "output_type": "execute_result"
    }
   ],
   "source": [
    "train"
   ]
  },
  {
   "cell_type": "code",
   "execution_count": 22,
   "metadata": {},
   "outputs": [
    {
     "data": {
      "text/html": [
       "<div>\n",
       "<style scoped>\n",
       "    .dataframe tbody tr th:only-of-type {\n",
       "        vertical-align: middle;\n",
       "    }\n",
       "\n",
       "    .dataframe tbody tr th {\n",
       "        vertical-align: top;\n",
       "    }\n",
       "\n",
       "    .dataframe thead th {\n",
       "        text-align: right;\n",
       "    }\n",
       "</style>\n",
       "<table border=\"1\" class=\"dataframe\">\n",
       "  <thead>\n",
       "    <tr style=\"text-align: right;\">\n",
       "      <th></th>\n",
       "      <th>dbfs</th>\n",
       "      <th>rms</th>\n",
       "      <th>avg</th>\n",
       "      <th>mode</th>\n",
       "      <th>std</th>\n",
       "      <th>dcoffset</th>\n",
       "      <th>target</th>\n",
       "    </tr>\n",
       "  </thead>\n",
       "  <tbody>\n",
       "    <tr>\n",
       "      <th>count</th>\n",
       "      <td>2000.000000</td>\n",
       "      <td>2000.000000</td>\n",
       "      <td>2000.000000</td>\n",
       "      <td>2000.000000</td>\n",
       "      <td>2000.000000</td>\n",
       "      <td>2000.000000</td>\n",
       "      <td>2000.000000</td>\n",
       "    </tr>\n",
       "    <tr>\n",
       "      <th>mean</th>\n",
       "      <td>-24.365061</td>\n",
       "      <td>0.076494</td>\n",
       "      <td>-0.000208</td>\n",
       "      <td>-0.078601</td>\n",
       "      <td>0.076394</td>\n",
       "      <td>-0.001530</td>\n",
       "      <td>0.500000</td>\n",
       "    </tr>\n",
       "    <tr>\n",
       "      <th>std</th>\n",
       "      <td>8.112060</td>\n",
       "      <td>0.063158</td>\n",
       "      <td>0.005856</td>\n",
       "      <td>0.160891</td>\n",
       "      <td>0.063007</td>\n",
       "      <td>0.014291</td>\n",
       "      <td>0.500125</td>\n",
       "    </tr>\n",
       "    <tr>\n",
       "      <th>min</th>\n",
       "      <td>-67.845098</td>\n",
       "      <td>0.000406</td>\n",
       "      <td>-0.012704</td>\n",
       "      <td>-1.218606</td>\n",
       "      <td>0.000406</td>\n",
       "      <td>-0.257812</td>\n",
       "      <td>0.000000</td>\n",
       "    </tr>\n",
       "    <tr>\n",
       "      <th>25%</th>\n",
       "      <td>-27.517713</td>\n",
       "      <td>0.041780</td>\n",
       "      <td>-0.000136</td>\n",
       "      <td>-0.093902</td>\n",
       "      <td>0.041780</td>\n",
       "      <td>-0.000178</td>\n",
       "      <td>0.000000</td>\n",
       "    </tr>\n",
       "    <tr>\n",
       "      <th>50%</th>\n",
       "      <td>-24.031654</td>\n",
       "      <td>0.061847</td>\n",
       "      <td>-0.000014</td>\n",
       "      <td>-0.001987</td>\n",
       "      <td>0.061847</td>\n",
       "      <td>-0.000031</td>\n",
       "      <td>0.500000</td>\n",
       "    </tr>\n",
       "    <tr>\n",
       "      <th>75%</th>\n",
       "      <td>-21.093569</td>\n",
       "      <td>0.086572</td>\n",
       "      <td>0.000004</td>\n",
       "      <td>0.000000</td>\n",
       "      <td>0.086543</td>\n",
       "      <td>0.000000</td>\n",
       "      <td>1.000000</td>\n",
       "    </tr>\n",
       "    <tr>\n",
       "      <th>max</th>\n",
       "      <td>38.687602</td>\n",
       "      <td>0.463202</td>\n",
       "      <td>0.080826</td>\n",
       "      <td>0.999939</td>\n",
       "      <td>0.463201</td>\n",
       "      <td>0.024780</td>\n",
       "      <td>1.000000</td>\n",
       "    </tr>\n",
       "  </tbody>\n",
       "</table>\n",
       "</div>"
      ],
      "text/plain": [
       "              dbfs          rms          avg         mode          std  \\\n",
       "count  2000.000000  2000.000000  2000.000000  2000.000000  2000.000000   \n",
       "mean    -24.365061     0.076494    -0.000208    -0.078601     0.076394   \n",
       "std       8.112060     0.063158     0.005856     0.160891     0.063007   \n",
       "min     -67.845098     0.000406    -0.012704    -1.218606     0.000406   \n",
       "25%     -27.517713     0.041780    -0.000136    -0.093902     0.041780   \n",
       "50%     -24.031654     0.061847    -0.000014    -0.001987     0.061847   \n",
       "75%     -21.093569     0.086572     0.000004     0.000000     0.086543   \n",
       "max      38.687602     0.463202     0.080826     0.999939     0.463201   \n",
       "\n",
       "          dcoffset       target  \n",
       "count  2000.000000  2000.000000  \n",
       "mean     -0.001530     0.500000  \n",
       "std       0.014291     0.500125  \n",
       "min      -0.257812     0.000000  \n",
       "25%      -0.000178     0.000000  \n",
       "50%      -0.000031     0.500000  \n",
       "75%       0.000000     1.000000  \n",
       "max       0.024780     1.000000  "
      ]
     },
     "execution_count": 22,
     "metadata": {},
     "output_type": "execute_result"
    }
   ],
   "source": [
    "train.describe()"
   ]
  },
  {
   "cell_type": "code",
   "execution_count": 23,
   "metadata": {},
   "outputs": [],
   "source": [
    "corr=train.corr()"
   ]
  },
  {
   "cell_type": "code",
   "execution_count": 27,
   "metadata": {},
   "outputs": [
    {
     "data": {
      "text/plain": [
       "<matplotlib.axes._subplots.AxesSubplot at 0x20842558b08>"
      ]
     },
     "execution_count": 27,
     "metadata": {},
     "output_type": "execute_result"
    },
    {
     "data": {
      "image/png": "[encoded data removed]",
      "text/plain": [
       "<Figure size 720x720 with 2 Axes>"
      ]
     },
     "metadata": {
      "needs_background": "light"
     },
     "output_type": "display_data"
    }
   ],
   "source": [
    "import seaborn as sns\n",
    "plt.figure(figsize=(10,10))\n",
    "cmap = sns.diverging_palette(230, 20, as_cmap=True)\n",
    "mask = np.triu(np.ones_like(corr, dtype=bool))\n",
    "sns.heatmap(corr, mask=mask, cmap=cmap, vmax=.3, center=0,square=True, linewidths=.5, cbar_kws={\"shrink\": .5})"
   ]
  },
  {
   "cell_type": "code",
   "execution_count": 28,
   "metadata": {},
   "outputs": [],
   "source": [
    "# ohk so mode give us high corelation so remove that"
   ]
  },
  {
   "cell_type": "code",
   "execution_count": 29,
   "metadata": {},
   "outputs": [],
   "source": [
    "train=train.drop(columns=['mode'])"
   ]
  },
  {
   "cell_type": "code",
   "execution_count": 30,
   "metadata": {},
   "outputs": [
    {
     "data": {
      "text/html": [
       "<div>\n",
       "<style scoped>\n",
       "    .dataframe tbody tr th:only-of-type {\n",
       "        vertical-align: middle;\n",
       "    }\n",
       "\n",
       "    .dataframe tbody tr th {\n",
       "        vertical-align: top;\n",
       "    }\n",
       "\n",
       "    .dataframe thead th {\n",
       "        text-align: right;\n",
       "    }\n",
       "</style>\n",
       "<table border=\"1\" class=\"dataframe\">\n",
       "  <thead>\n",
       "    <tr style=\"text-align: right;\">\n",
       "      <th></th>\n",
       "      <th>dbfs</th>\n",
       "      <th>rms</th>\n",
       "      <th>avg</th>\n",
       "      <th>std</th>\n",
       "      <th>dcoffset</th>\n",
       "      <th>target</th>\n",
       "    </tr>\n",
       "  </thead>\n",
       "  <tbody>\n",
       "    <tr>\n",
       "      <th>0</th>\n",
       "      <td>-23.342901</td>\n",
       "      <td>0.068081</td>\n",
       "      <td>9.726773e-06</td>\n",
       "      <td>0.068081</td>\n",
       "      <td>0.000000</td>\n",
       "      <td>1</td>\n",
       "    </tr>\n",
       "    <tr>\n",
       "      <th>1</th>\n",
       "      <td>-32.613091</td>\n",
       "      <td>0.023555</td>\n",
       "      <td>-1.376716e-05</td>\n",
       "      <td>0.023555</td>\n",
       "      <td>-0.000061</td>\n",
       "      <td>0</td>\n",
       "    </tr>\n",
       "    <tr>\n",
       "      <th>2</th>\n",
       "      <td>-33.918120</td>\n",
       "      <td>0.020217</td>\n",
       "      <td>-2.388173e-05</td>\n",
       "      <td>0.020217</td>\n",
       "      <td>-0.000061</td>\n",
       "      <td>0</td>\n",
       "    </tr>\n",
       "    <tr>\n",
       "      <th>3</th>\n",
       "      <td>-28.287812</td>\n",
       "      <td>0.038521</td>\n",
       "      <td>-2.014348e-06</td>\n",
       "      <td>0.038521</td>\n",
       "      <td>-0.000031</td>\n",
       "      <td>1</td>\n",
       "    </tr>\n",
       "    <tr>\n",
       "      <th>4</th>\n",
       "      <td>-24.189081</td>\n",
       "      <td>0.061746</td>\n",
       "      <td>-6.716756e-07</td>\n",
       "      <td>0.061746</td>\n",
       "      <td>-0.000031</td>\n",
       "      <td>1</td>\n",
       "    </tr>\n",
       "  </tbody>\n",
       "</table>\n",
       "</div>"
      ],
      "text/plain": [
       "        dbfs       rms           avg       std  dcoffset  target\n",
       "0 -23.342901  0.068081  9.726773e-06  0.068081  0.000000       1\n",
       "1 -32.613091  0.023555 -1.376716e-05  0.023555 -0.000061       0\n",
       "2 -33.918120  0.020217 -2.388173e-05  0.020217 -0.000061       0\n",
       "3 -28.287812  0.038521 -2.014348e-06  0.038521 -0.000031       1\n",
       "4 -24.189081  0.061746 -6.716756e-07  0.061746 -0.000031       1"
      ]
     },
     "execution_count": 30,
     "metadata": {},
     "output_type": "execute_result"
    }
   ],
   "source": [
    "train.head()"
   ]
  },
  {
   "cell_type": "code",
   "execution_count": 31,
   "metadata": {},
   "outputs": [],
   "source": [
    "corr=train.corr()"
   ]
  },
  {
   "cell_type": "code",
   "execution_count": 32,
   "metadata": {},
   "outputs": [
    {
     "data": {
      "text/plain": [
       "<matplotlib.axes._subplots.AxesSubplot at 0x2084273efc8>"
      ]
     },
     "execution_count": 32,
     "metadata": {},
     "output_type": "execute_result"
    },
    {
     "data": {
      "image/png": "[encoded data removed]",
      "text/plain": [
       "<Figure size 720x720 with 2 Axes>"
      ]
     },
     "metadata": {
      "needs_background": "light"
     },
     "output_type": "display_data"
    }
   ],
   "source": [
    "plt.figure(figsize=(10,10))\n",
    "cmap = sns.diverging_palette(230, 20, as_cmap=True)\n",
    "mask = np.triu(np.ones_like(corr, dtype=bool))\n",
    "sns.heatmap(corr, mask=mask, cmap=cmap, vmax=.3, center=0,square=True, linewidths=.5, cbar_kws={\"shrink\": .5})"
   ]
  },
  {
   "cell_type": "code",
   "execution_count": 37,
   "metadata": {},
   "outputs": [
    {
     "data": {
      "text/plain": [
       "<matplotlib.axes._subplots.AxesSubplot at 0x2084290f948>"
      ]
     },
     "execution_count": 37,
     "metadata": {},
     "output_type": "execute_result"
    },
    {
     "data": {
      "image/png": "[encoded data removed]",
      "text/plain": [
       "<Figure size 432x288 with 1 Axes>"
      ]
     },
     "metadata": {
      "needs_background": "light"
     },
     "output_type": "display_data"
    }
   ],
   "source": [
    "sns.scatterplot(data=train,x='dbfs',y='dcoffset')"
   ]
  },
  {
   "cell_type": "code",
   "execution_count": 38,
   "metadata": {},
   "outputs": [
    {
     "data": {
      "text/plain": [
       "<matplotlib.axes._subplots.AxesSubplot at 0x20842b1d7c8>"
      ]
     },
     "execution_count": 38,
     "metadata": {},
     "output_type": "execute_result"
    },
    {
     "data": {
      "image/png": "[encoded data removed]",
      "text/plain": [
       "<Figure size 432x288 with 1 Axes>"
      ]
     },
     "metadata": {
      "needs_background": "light"
     },
     "output_type": "display_data"
    }
   ],
   "source": [
    "sns.scatterplot(data=train,x='avg',y='dcoffset')"
   ]
  },
  {
   "cell_type": "markdown",
   "metadata": {},
   "source": [
    "# Ok so as we see a plot of cooraltion in the matrix between thee 2 but i think as the dataset is of 2000 rows and if 10 datapoints are not following that part then i think it must be ok "
   ]
  },
  {
   "cell_type": "markdown",
   "metadata": {},
   "source": [
    "Lets train the model with these features"
   ]
  },
  {
   "cell_type": "code",
   "execution_count": 48,
   "metadata": {},
   "outputs": [],
   "source": [
    "# Split train in X and Y for trainig purpose\n",
    "X=train.drop(columns=['target'])\n",
    "y=train['target']"
   ]
  },
  {
   "cell_type": "code",
   "execution_count": 50,
   "metadata": {},
   "outputs": [
    {
     "data": {
      "text/plain": [
       "XGBClassifier(base_score=0.5, booster='gbtree', colsample_bylevel=1,\n",
       "              colsample_bynode=1, colsample_bytree=1, gamma=0, gpu_id=-1,\n",
       "              importance_type='gain', interaction_constraints='',\n",
       "              learning_rate=0.300000012, max_delta_step=0, max_depth=6,\n",
       "              min_child_weight=1, missing=nan, monotone_constraints='()',\n",
       "              n_estimators=100, n_jobs=0, num_parallel_tree=1,\n",
       "              objective='binary:logistic', random_state=0, reg_alpha=0,\n",
       "              reg_lambda=1, scale_pos_weight=1, subsample=1,\n",
       "              tree_method='exact', validate_parameters=1, verbosity=None)"
      ]
     },
     "execution_count": 50,
     "metadata": {},
     "output_type": "execute_result"
    }
   ],
   "source": [
    "from xgboost import XGBClassifier\n",
    "classifier=XGBClassifier()\n",
    "classifier.fit(X,y)"
   ]
  },
  {
   "cell_type": "markdown",
   "metadata": {},
   "source": [
    "# now perform same steps for Validation"
   ]
  },
  {
   "cell_type": "code",
   "execution_count": 53,
   "metadata": {},
   "outputs": [
    {
     "data": {
      "text/html": [
       "<div>\n",
       "<style scoped>\n",
       "    .dataframe tbody tr th:only-of-type {\n",
       "        vertical-align: middle;\n",
       "    }\n",
       "\n",
       "    .dataframe tbody tr th {\n",
       "        vertical-align: top;\n",
       "    }\n",
       "\n",
       "    .dataframe thead th {\n",
       "        text-align: right;\n",
       "    }\n",
       "</style>\n",
       "<table border=\"1\" class=\"dataframe\">\n",
       "  <thead>\n",
       "    <tr style=\"text-align: right;\">\n",
       "      <th></th>\n",
       "      <th>dbfs</th>\n",
       "      <th>rms</th>\n",
       "      <th>avg</th>\n",
       "      <th>mode</th>\n",
       "      <th>std</th>\n",
       "      <th>dcoffset</th>\n",
       "      <th>filename</th>\n",
       "      <th>target</th>\n",
       "    </tr>\n",
       "  </thead>\n",
       "  <tbody>\n",
       "    <tr>\n",
       "      <th>0</th>\n",
       "      <td>-28.718139</td>\n",
       "      <td>0.036679</td>\n",
       "      <td>-5.857863e-08</td>\n",
       "      <td>0.000275</td>\n",
       "      <td>0.036679</td>\n",
       "      <td>-0.000031</td>\n",
       "      <td>LBJG6IRRNJT</td>\n",
       "      <td>silent</td>\n",
       "    </tr>\n",
       "    <tr>\n",
       "      <th>1</th>\n",
       "      <td>-21.730113</td>\n",
       "      <td>0.081726</td>\n",
       "      <td>-5.130002e-06</td>\n",
       "      <td>-0.103353</td>\n",
       "      <td>0.081726</td>\n",
       "      <td>-0.000031</td>\n",
       "      <td>K0N0FWSJH6Q</td>\n",
       "      <td>noise</td>\n",
       "    </tr>\n",
       "    <tr>\n",
       "      <th>2</th>\n",
       "      <td>-23.006730</td>\n",
       "      <td>0.070743</td>\n",
       "      <td>-9.530798e-04</td>\n",
       "      <td>0.001740</td>\n",
       "      <td>0.070736</td>\n",
       "      <td>-0.000977</td>\n",
       "      <td>CI3K3E36QFM</td>\n",
       "      <td>silent</td>\n",
       "    </tr>\n",
       "    <tr>\n",
       "      <th>3</th>\n",
       "      <td>-40.824673</td>\n",
       "      <td>0.009223</td>\n",
       "      <td>-2.243036e-05</td>\n",
       "      <td>-0.011938</td>\n",
       "      <td>0.009223</td>\n",
       "      <td>-0.000061</td>\n",
       "      <td>908RKO7BJWD</td>\n",
       "      <td>noise</td>\n",
       "    </tr>\n",
       "    <tr>\n",
       "      <th>4</th>\n",
       "      <td>-25.069475</td>\n",
       "      <td>0.052199</td>\n",
       "      <td>-2.454277e-04</td>\n",
       "      <td>0.000000</td>\n",
       "      <td>0.052199</td>\n",
       "      <td>-0.000244</td>\n",
       "      <td>OQU84RQS7AV</td>\n",
       "      <td>noise</td>\n",
       "    </tr>\n",
       "    <tr>\n",
       "      <th>...</th>\n",
       "      <td>...</td>\n",
       "      <td>...</td>\n",
       "      <td>...</td>\n",
       "      <td>...</td>\n",
       "      <td>...</td>\n",
       "      <td>...</td>\n",
       "      <td>...</td>\n",
       "      <td>...</td>\n",
       "    </tr>\n",
       "    <tr>\n",
       "      <th>495</th>\n",
       "      <td>-28.246614</td>\n",
       "      <td>0.038703</td>\n",
       "      <td>1.876557e-06</td>\n",
       "      <td>-0.000214</td>\n",
       "      <td>0.038703</td>\n",
       "      <td>0.000000</td>\n",
       "      <td>GHJBJBMI5HR</td>\n",
       "      <td>silent</td>\n",
       "    </tr>\n",
       "    <tr>\n",
       "      <th>496</th>\n",
       "      <td>-31.792447</td>\n",
       "      <td>0.025743</td>\n",
       "      <td>-9.697393e-07</td>\n",
       "      <td>-0.000214</td>\n",
       "      <td>0.025743</td>\n",
       "      <td>-0.000031</td>\n",
       "      <td>EOWEH0QRDNP</td>\n",
       "      <td>silent</td>\n",
       "    </tr>\n",
       "    <tr>\n",
       "      <th>497</th>\n",
       "      <td>-19.425156</td>\n",
       "      <td>0.107797</td>\n",
       "      <td>3.164027e-03</td>\n",
       "      <td>-0.598241</td>\n",
       "      <td>0.107751</td>\n",
       "      <td>0.003113</td>\n",
       "      <td>EUK5KHO7UO8</td>\n",
       "      <td>noise</td>\n",
       "    </tr>\n",
       "    <tr>\n",
       "      <th>498</th>\n",
       "      <td>-22.253457</td>\n",
       "      <td>0.077385</td>\n",
       "      <td>9.998230e-05</td>\n",
       "      <td>-0.120687</td>\n",
       "      <td>0.077385</td>\n",
       "      <td>0.000061</td>\n",
       "      <td>LZYX5QHCXXU</td>\n",
       "      <td>noise</td>\n",
       "    </tr>\n",
       "    <tr>\n",
       "      <th>499</th>\n",
       "      <td>-18.348517</td>\n",
       "      <td>0.121673</td>\n",
       "      <td>4.815523e-05</td>\n",
       "      <td>-0.082985</td>\n",
       "      <td>0.121672</td>\n",
       "      <td>0.000000</td>\n",
       "      <td>DMN7EU0A8NO</td>\n",
       "      <td>noise</td>\n",
       "    </tr>\n",
       "  </tbody>\n",
       "</table>\n",
       "<p>500 rows × 8 columns</p>\n",
       "</div>"
      ],
      "text/plain": [
       "          dbfs       rms           avg      mode       std  dcoffset  \\\n",
       "0   -28.718139  0.036679 -5.857863e-08  0.000275  0.036679 -0.000031   \n",
       "1   -21.730113  0.081726 -5.130002e-06 -0.103353  0.081726 -0.000031   \n",
       "2   -23.006730  0.070743 -9.530798e-04  0.001740  0.070736 -0.000977   \n",
       "3   -40.824673  0.009223 -2.243036e-05 -0.011938  0.009223 -0.000061   \n",
       "4   -25.069475  0.052199 -2.454277e-04  0.000000  0.052199 -0.000244   \n",
       "..         ...       ...           ...       ...       ...       ...   \n",
       "495 -28.246614  0.038703  1.876557e-06 -0.000214  0.038703  0.000000   \n",
       "496 -31.792447  0.025743 -9.697393e-07 -0.000214  0.025743 -0.000031   \n",
       "497 -19.425156  0.107797  3.164027e-03 -0.598241  0.107751  0.003113   \n",
       "498 -22.253457  0.077385  9.998230e-05 -0.120687  0.077385  0.000061   \n",
       "499 -18.348517  0.121673  4.815523e-05 -0.082985  0.121672  0.000000   \n",
       "\n",
       "        filename  target  \n",
       "0    LBJG6IRRNJT  silent  \n",
       "1    K0N0FWSJH6Q   noise  \n",
       "2    CI3K3E36QFM  silent  \n",
       "3    908RKO7BJWD   noise  \n",
       "4    OQU84RQS7AV   noise  \n",
       "..           ...     ...  \n",
       "495  GHJBJBMI5HR  silent  \n",
       "496  EOWEH0QRDNP  silent  \n",
       "497  EUK5KHO7UO8   noise  \n",
       "498  LZYX5QHCXXU   noise  \n",
       "499  DMN7EU0A8NO   noise  \n",
       "\n",
       "[500 rows x 8 columns]"
      ]
     },
     "execution_count": 53,
     "metadata": {},
     "output_type": "execute_result"
    }
   ],
   "source": [
    "validation"
   ]
  },
  {
   "cell_type": "code",
   "execution_count": 54,
   "metadata": {},
   "outputs": [],
   "source": [
    "validation=validation.drop(columns=['filename','mode'])"
   ]
  },
  {
   "cell_type": "code",
   "execution_count": 56,
   "metadata": {},
   "outputs": [
    {
     "data": {
      "text/html": [
       "<div>\n",
       "<style scoped>\n",
       "    .dataframe tbody tr th:only-of-type {\n",
       "        vertical-align: middle;\n",
       "    }\n",
       "\n",
       "    .dataframe tbody tr th {\n",
       "        vertical-align: top;\n",
       "    }\n",
       "\n",
       "    .dataframe thead th {\n",
       "        text-align: right;\n",
       "    }\n",
       "</style>\n",
       "<table border=\"1\" class=\"dataframe\">\n",
       "  <thead>\n",
       "    <tr style=\"text-align: right;\">\n",
       "      <th></th>\n",
       "      <th>dbfs</th>\n",
       "      <th>rms</th>\n",
       "      <th>avg</th>\n",
       "      <th>std</th>\n",
       "      <th>dcoffset</th>\n",
       "      <th>target</th>\n",
       "    </tr>\n",
       "  </thead>\n",
       "  <tbody>\n",
       "    <tr>\n",
       "      <th>0</th>\n",
       "      <td>-28.718139</td>\n",
       "      <td>0.036679</td>\n",
       "      <td>-5.857863e-08</td>\n",
       "      <td>0.036679</td>\n",
       "      <td>-0.000031</td>\n",
       "      <td>silent</td>\n",
       "    </tr>\n",
       "    <tr>\n",
       "      <th>1</th>\n",
       "      <td>-21.730113</td>\n",
       "      <td>0.081726</td>\n",
       "      <td>-5.130002e-06</td>\n",
       "      <td>0.081726</td>\n",
       "      <td>-0.000031</td>\n",
       "      <td>noise</td>\n",
       "    </tr>\n",
       "    <tr>\n",
       "      <th>2</th>\n",
       "      <td>-23.006730</td>\n",
       "      <td>0.070743</td>\n",
       "      <td>-9.530798e-04</td>\n",
       "      <td>0.070736</td>\n",
       "      <td>-0.000977</td>\n",
       "      <td>silent</td>\n",
       "    </tr>\n",
       "    <tr>\n",
       "      <th>3</th>\n",
       "      <td>-40.824673</td>\n",
       "      <td>0.009223</td>\n",
       "      <td>-2.243036e-05</td>\n",
       "      <td>0.009223</td>\n",
       "      <td>-0.000061</td>\n",
       "      <td>noise</td>\n",
       "    </tr>\n",
       "    <tr>\n",
       "      <th>4</th>\n",
       "      <td>-25.069475</td>\n",
       "      <td>0.052199</td>\n",
       "      <td>-2.454277e-04</td>\n",
       "      <td>0.052199</td>\n",
       "      <td>-0.000244</td>\n",
       "      <td>noise</td>\n",
       "    </tr>\n",
       "  </tbody>\n",
       "</table>\n",
       "</div>"
      ],
      "text/plain": [
       "        dbfs       rms           avg       std  dcoffset  target\n",
       "0 -28.718139  0.036679 -5.857863e-08  0.036679 -0.000031  silent\n",
       "1 -21.730113  0.081726 -5.130002e-06  0.081726 -0.000031   noise\n",
       "2 -23.006730  0.070743 -9.530798e-04  0.070736 -0.000977  silent\n",
       "3 -40.824673  0.009223 -2.243036e-05  0.009223 -0.000061   noise\n",
       "4 -25.069475  0.052199 -2.454277e-04  0.052199 -0.000244   noise"
      ]
     },
     "execution_count": 56,
     "metadata": {},
     "output_type": "execute_result"
    }
   ],
   "source": [
    "validation.head()"
   ]
  },
  {
   "cell_type": "code",
   "execution_count": 59,
   "metadata": {},
   "outputs": [],
   "source": [
    "from sklearn.preprocessing import LabelEncoder\n",
    "encoder=LabelEncoder()\n",
    "validation['target']=encoder.fit_transform(validation['target'])"
   ]
  },
  {
   "cell_type": "code",
   "execution_count": 60,
   "metadata": {},
   "outputs": [
    {
     "data": {
      "text/html": [
       "<div>\n",
       "<style scoped>\n",
       "    .dataframe tbody tr th:only-of-type {\n",
       "        vertical-align: middle;\n",
       "    }\n",
       "\n",
       "    .dataframe tbody tr th {\n",
       "        vertical-align: top;\n",
       "    }\n",
       "\n",
       "    .dataframe thead th {\n",
       "        text-align: right;\n",
       "    }\n",
       "</style>\n",
       "<table border=\"1\" class=\"dataframe\">\n",
       "  <thead>\n",
       "    <tr style=\"text-align: right;\">\n",
       "      <th></th>\n",
       "      <th>dbfs</th>\n",
       "      <th>rms</th>\n",
       "      <th>avg</th>\n",
       "      <th>std</th>\n",
       "      <th>dcoffset</th>\n",
       "      <th>target</th>\n",
       "    </tr>\n",
       "  </thead>\n",
       "  <tbody>\n",
       "    <tr>\n",
       "      <th>0</th>\n",
       "      <td>-28.718139</td>\n",
       "      <td>0.036679</td>\n",
       "      <td>-5.857863e-08</td>\n",
       "      <td>0.036679</td>\n",
       "      <td>-0.000031</td>\n",
       "      <td>1</td>\n",
       "    </tr>\n",
       "    <tr>\n",
       "      <th>1</th>\n",
       "      <td>-21.730113</td>\n",
       "      <td>0.081726</td>\n",
       "      <td>-5.130002e-06</td>\n",
       "      <td>0.081726</td>\n",
       "      <td>-0.000031</td>\n",
       "      <td>0</td>\n",
       "    </tr>\n",
       "    <tr>\n",
       "      <th>2</th>\n",
       "      <td>-23.006730</td>\n",
       "      <td>0.070743</td>\n",
       "      <td>-9.530798e-04</td>\n",
       "      <td>0.070736</td>\n",
       "      <td>-0.000977</td>\n",
       "      <td>1</td>\n",
       "    </tr>\n",
       "    <tr>\n",
       "      <th>3</th>\n",
       "      <td>-40.824673</td>\n",
       "      <td>0.009223</td>\n",
       "      <td>-2.243036e-05</td>\n",
       "      <td>0.009223</td>\n",
       "      <td>-0.000061</td>\n",
       "      <td>0</td>\n",
       "    </tr>\n",
       "    <tr>\n",
       "      <th>4</th>\n",
       "      <td>-25.069475</td>\n",
       "      <td>0.052199</td>\n",
       "      <td>-2.454277e-04</td>\n",
       "      <td>0.052199</td>\n",
       "      <td>-0.000244</td>\n",
       "      <td>0</td>\n",
       "    </tr>\n",
       "  </tbody>\n",
       "</table>\n",
       "</div>"
      ],
      "text/plain": [
       "        dbfs       rms           avg       std  dcoffset  target\n",
       "0 -28.718139  0.036679 -5.857863e-08  0.036679 -0.000031       1\n",
       "1 -21.730113  0.081726 -5.130002e-06  0.081726 -0.000031       0\n",
       "2 -23.006730  0.070743 -9.530798e-04  0.070736 -0.000977       1\n",
       "3 -40.824673  0.009223 -2.243036e-05  0.009223 -0.000061       0\n",
       "4 -25.069475  0.052199 -2.454277e-04  0.052199 -0.000244       0"
      ]
     },
     "execution_count": 60,
     "metadata": {},
     "output_type": "execute_result"
    }
   ],
   "source": [
    "validation.head()"
   ]
  },
  {
   "cell_type": "code",
   "execution_count": 61,
   "metadata": {},
   "outputs": [],
   "source": [
    "X_test=validation.drop(columns=['target'])\n",
    "Y_test=validation['target']"
   ]
  },
  {
   "cell_type": "markdown",
   "metadata": {},
   "source": [
    "Now predicting the values"
   ]
  },
  {
   "cell_type": "code",
   "execution_count": 62,
   "metadata": {},
   "outputs": [],
   "source": [
    "y_pred=classifier.predict(X_test)"
   ]
  },
  {
   "cell_type": "code",
   "execution_count": 68,
   "metadata": {},
   "outputs": [],
   "source": [
    "from sklearn.metrics import confusion_matrix\n",
    "cm=confusion_matrix(Y_test,y_pred)"
   ]
  },
  {
   "cell_type": "code",
   "execution_count": 69,
   "metadata": {},
   "outputs": [
    {
     "data": {
      "text/plain": [
       "array([[206,  44],\n",
       "       [ 13, 237]], dtype=int64)"
      ]
     },
     "execution_count": 69,
     "metadata": {},
     "output_type": "execute_result"
    }
   ],
   "source": [
    "cm"
   ]
  },
  {
   "cell_type": "markdown",
   "metadata": {},
   "source": [
    "# as we see the accurancy here is "
   ]
  },
  {
   "cell_type": "markdown",
   "metadata": {},
   "source": [
    "(206+237)/(206+237+13+44)"
   ]
  },
  {
   "cell_type": "markdown",
   "metadata": {},
   "source": [
    "###### = 0.886"
   ]
  },
  {
   "cell_type": "code",
   "execution_count": 71,
   "metadata": {},
   "outputs": [
    {
     "data": {
      "text/plain": [
       "0.886"
      ]
     },
     "execution_count": 71,
     "metadata": {},
     "output_type": "execute_result"
    }
   ],
   "source": [
    "#Or we can also use\n",
    "from sklearn.metrics import accuracy_score\n",
    "accuracy_score(Y_test,y_pred)"
   ]
  },
  {
   "cell_type": "code",
   "execution_count": null,
   "metadata": {},
   "outputs": [],
   "source": []
  }
 ],
 "metadata": {
  "kernelspec": {
   "display_name": "Python 3",
   "language": "python",
   "name": "python3"
  },
  "language_info": {
   "codemirror_mode": {
    "name": "ipython",
    "version": 3
   },
   "file_extension": ".py",
   "mimetype": "text/x-python",
   "name": "python",
   "nbconvert_exporter": "python",
   "pygments_lexer": "ipython3",
   "version": "3.7.7"
  }
 },
 "nbformat": 4,
 "nbformat_minor": 4
}
